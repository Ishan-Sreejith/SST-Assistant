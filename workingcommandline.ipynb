{
 "cells": [
  {
   "cell_type": "code",
   "execution_count": null,
   "id": "c8e5115e-33cd-4f86-98ed-9a7740c3dc2a",
   "metadata": {},
   "outputs": [
    {
     "name": "stdin",
     "output_type": "stream",
     "text": [
      "Select mode (Normal/Training):  Training\n",
      "Enter input:  Test2\n",
      "Enter output:  ans2\n"
     ]
    },
    {
     "name": "stdout",
     "output_type": "stream",
     "text": [
      "Training data added!\n"
     ]
    },
    {
     "name": "stdin",
     "output_type": "stream",
     "text": [
      "Select mode (Normal/Training):  Normal\n",
      "Enter your question:  Test2\n"
     ]
    },
    {
     "name": "stdout",
     "output_type": "stream",
     "text": [
      "Answer: ans2\n"
     ]
    }
   ],
   "source": [
    "import pandas as pd\n",
    "import random\n",
    "\n",
    "def load_data(filename='data.csv'):\n",
    "    try:\n",
    "        data = pd.read_csv(filename)\n",
    "    except FileNotFoundError:\n",
    "        data = pd.DataFrame({'Input': [], 'Output': []})\n",
    "    return data\n",
    "\n",
    "def save_data(data, filename='data.csv'):\n",
    "    data.to_csv(filename, index=False)\n",
    "\n",
    "def find_answer(data, question):\n",
    "    # Drop NaN values from the 'Input' column before filtering\n",
    "    data = data.dropna(subset=['Input'])\n",
    "    matches = data[data['Input'].str.contains(question, case=False)]\n",
    "    return matches['Output'].tolist() if not matches.empty else []\n",
    "\n",
    "def main():\n",
    "    data = load_data()\n",
    "\n",
    "    while True:\n",
    "        mode = input(\"Select mode (Normal/Training): \")\n",
    "        if mode.lower() == \"training\":\n",
    "            input_value = input(\"Enter input: \")\n",
    "            output_value = input(\"Enter output: \")\n",
    "            # Use pd.concat to add a new row to the DataFrame\n",
    "            new_data = pd.DataFrame({'Input': [input_value], 'Output': [output_value]})\n",
    "            data = pd.concat([data, new_data], ignore_index=True)  # Concatenate the new data\n",
    "            save_data(data)\n",
    "            print(\"Training data added!\")\n",
    "        elif mode.lower() == \"normal\":\n",
    "            question = input(\"Enter your question: \")\n",
    "            answers = find_answer(data, question)\n",
    "            if answers:\n",
    "                for answer in answers:\n",
    "                    print(f\"Answer: {answer}\")\n",
    "            else:\n",
    "                print(\"No matching answer found.\")\n",
    "        else:\n",
    "            print(\"Invalid mode. Please enter 'Normal' or 'Training'.\")\n",
    "\n",
    "if __name__ == \"__main__\":\n",
    "    main()"
   ]
  },
  {
   "cell_type": "code",
   "execution_count": null,
   "id": "598b6607-e2c8-4353-ace6-bce63400052f",
   "metadata": {},
   "outputs": [],
   "source": []
  }
 ],
 "metadata": {
  "kernelspec": {
   "display_name": "anaconda-panel-2023.05-py310",
   "language": "python",
   "name": "conda-env-anaconda-panel-2023.05-py310-py"
  },
  "language_info": {
   "codemirror_mode": {
    "name": "ipython",
    "version": 3
   },
   "file_extension": ".py",
   "mimetype": "text/x-python",
   "name": "python",
   "nbconvert_exporter": "python",
   "pygments_lexer": "ipython3",
   "version": "3.11.5"
  }
 },
 "nbformat": 4,
 "nbformat_minor": 5
}
