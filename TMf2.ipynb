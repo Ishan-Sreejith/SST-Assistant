{
 "cells": [
  {
   "cell_type": "code",
   "execution_count": 64,
   "id": "9461bb6c-8de0-4c3c-b98c-5d7b87134076",
   "metadata": {},
   "outputs": [
    {
     "ename": "ModuleNotFoundError",
     "evalue": "No module named 'mercury'",
     "output_type": "error",
     "traceback": [
      "\u001b[0;31m---------------------------------------------------------------------------\u001b[0m",
      "\u001b[0;31mModuleNotFoundError\u001b[0m                       Traceback (most recent call last)",
      "Cell \u001b[0;32mIn[64], line 3\u001b[0m\n\u001b[1;32m      1\u001b[0m \u001b[38;5;28;01mimport\u001b[39;00m \u001b[38;5;21;01mpandas\u001b[39;00m \u001b[38;5;28;01mas\u001b[39;00m \u001b[38;5;21;01mpd\u001b[39;00m\n\u001b[1;32m      2\u001b[0m \u001b[38;5;28;01mimport\u001b[39;00m \u001b[38;5;21;01mrandom\u001b[39;00m\n\u001b[0;32m----> 3\u001b[0m \u001b[38;5;28;01mimport\u001b[39;00m \u001b[38;5;21;01mmercury\u001b[39;00m \u001b[38;5;28;01mas\u001b[39;00m \u001b[38;5;21;01mmr\u001b[39;00m\n\u001b[1;32m      5\u001b[0m \u001b[38;5;66;03m# Define a global variable to hold the dataframe\u001b[39;00m\n\u001b[1;32m      6\u001b[0m df \u001b[38;5;241m=\u001b[39m pd\u001b[38;5;241m.\u001b[39mread_csv(\u001b[38;5;124m'\u001b[39m\u001b[38;5;124mjs.csv\u001b[39m\u001b[38;5;124m'\u001b[39m)\n",
      "\u001b[0;31mModuleNotFoundError\u001b[0m: No module named 'mercury'"
     ]
    }
   ],
   "source": [
    "import pandas as pd\n",
    "import random\n",
    "import mercury as mr\n",
    "\n",
    "# Load the dataset\n",
    "data = {\n",
    "    \"No\": [i + 1 for i in range(30)],  # Numbers from 1 to 30\n",
    "    \"Input\": [None] * 30,               # 30 empty rows for Input\n",
    "    \"Output\": [None] * 30                # 30 empty rows for Output\n",
    "}\n",
    "\n",
    "df = pd.read_csv('data.csv')\n",
    "\n",
    "def find_answer(df, question):\n",
    "    # Ensure the 'Input' column is of string type\n",
    "    df[\"Input\"] = df[\"Input\"].astype(str)\n",
    "\n",
    "    # Check if the question matches any input and return the corresponding output\n",
    "    matches = df[df[\"Input\"].str.contains(question, na=False)]\n",
    "    \n",
    "    if not matches.empty:\n",
    "        return matches[\"Output\"].tolist()  # Return all matching outputs as a list\n",
    "    return []  # return an empty list if no matches are found\n",
    "\n",
    "\n",
    "def main():\n",
    "    # Ensure that the default value matches one of the choices\n",
    "    mode_widget = mr.Select(value=\"Normal\", choices=[\"Normal\", \"Cancel\", \"Training\"], label=\"Select Mode\")\n",
    "    mode = mode_widget.value  # get the value selected by the user\n",
    "\n",
    "    if mode == \"Training\":\n",
    "        row_index = random.randint(0, len(df) - 1)\n",
    "        if pd.isna(df.loc[row_index, \"Output\"]):\n",
    "            input_text = mr.Text(label=\"Input\", rows=1)\n",
    "            output_text = mr.Text(label=\"Output\", rows=1)\n",
    "            \n",
    "            df.loc[row_index, \"Input\"] = input_text.value  # retrieve input value\n",
    "            df.loc[row_index, \"Output\"] = output_text.value  # retrieve output value\n",
    "            df.to_csv(\"data.csv\", index=False)\n",
    "            \n",
    "            mr.Markdown(f\"**Training completed. New entry added at row {row_index}:**\")\n",
    "            #mr.DataFrame(df.loc[[row_index]])  Show the newly added row\n",
    "\n",
    "    elif mode == \"Normal\":\n",
    "        question_widget = mr.Text(label=\"What is your question?\", rows=1)\n",
    "        question = question_widget.value  # get the user's question\n",
    "        \n",
    "        answers = find_answer(df.copy(), question)  # avoid modifying the original DataFrame\n",
    "        \n",
    "        if answers:\n",
    "            for answer in answers:\n",
    "                mr.Markdown(f\"**Answer:** {answer}\")\n",
    "        else:\n",
    "            mr.Markdown(\"**No matching questions found.**\")\n",
    "\n",
    "    else:\n",
    "        mr.Markdown(\"**Please select a valid mode: 'Normal' or 'Training'.**\")\n",
    "\n",
    "    # Drop unnamed columns (optional)\n",
    "    unnamed_cols = [col for col in df.columns if 'Unnamed' in col]\n",
    "    if unnamed_cols:\n",
    "        df.drop(unnamed_cols, axis=1, inplace=True)\n",
    "\n",
    "# Run the app\n",
    "main()\n"
   ]
  }
 ],
 "metadata": {
  "kernelspec": {
   "display_name": "anaconda-panel-2023.05-py310",
   "language": "python",
   "name": "conda-env-anaconda-panel-2023.05-py310-py"
  },
  "language_info": {
   "codemirror_mode": {
    "name": "ipython",
    "version": 3
   },
   "file_extension": ".py",
   "mimetype": "text/x-python",
   "name": "python",
   "nbconvert_exporter": "python",
   "pygments_lexer": "ipython3",
   "version": "3.11.5"
  }
 },
 "nbformat": 4,
 "nbformat_minor": 5
}
